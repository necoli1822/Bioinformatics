{
 "cells": [
  {
   "cell_type": "markdown",
   "metadata": {},
   "source": [
    "# Baceterial DEG analysis"
   ]
  },
  {
   "cell_type": "markdown",
   "metadata": {},
   "source": [
    "## I. Setting workspace"
   ]
  },
  {
   "cell_type": "markdown",
   "metadata": {},
   "source": [
    "### 0. final directory structure and name of variable"
   ]
  },
  {
   "cell_type": "markdown",
   "metadata": {},
   "source": [
    "- $(name of variable) # description  \n",
    "\\$(threads) # number of threads available\n",
    "\n",
    ">```\n",
    ">User@Machine:~$ ls\n",
    ">```\n",
    ">>exp_run/\n",
    ">```\n",
    ">User@Machine:~/exp_run$ ls\n",
    ">```\n",
    ">>```\n",
    ">>0_raw/\n",
    ">>0_tools/\n",
    ">>0_reference_genome/\n",
    ">>```"
   ]
  },
  {
   "cell_type": "markdown",
   "metadata": {},
   "source": [
    "### 1. preparation of the workspace directory"
   ]
  },
  {
   "cell_type": "markdown",
   "metadata": {},
   "source": [
    "- let`s say that the home directory (~) is /home/username\n",
    ">```\n",
    ">User@Machine:/$ cd /home/username\n",
    ">User@Machine:~$ mkdir exp_run && cd exp_run\n",
    ">User@Machine:~/exp_run$ pwd\n",
    ">```\n",
    ">>```\n",
    ">>/home/username/exp_run\n",
    ">>```"
   ]
  },
  {
   "cell_type": "markdown",
   "metadata": {},
   "source": [
    "### 2. install dependencies"
   ]
  },
  {
   "cell_type": "markdown",
   "metadata": {},
   "source": [
    "- click name of the tools to access webpage to get more help  \n",
    "\n",
    "    [NCBI SRA toolkit](https://github.com/ncbi/sra-tools): SRA toolkit helping dealing with SRR files  \n",
    "    [FastQC](https://www.bioinformatics.babraham.ac.uk/projects/fastqc/): Quality control and adapter sequence report  \n",
    "    [cutadapt](https://cutadapt.readthedocs.io/en/stable/): purge adapter sequences  \n",
    "    [Trim Galore](https://www.bioinformatics.babraham.ac.uk/projects/trim_galore/): trim adapter sequences  \n",
    "    [Bowtie2](https://github.com/BenLangmead/bowtie2): align reads  \n",
    "    [samtools](http://www.htslib.org): dealing sam and bam format files  \n",
    "    [htseq](https://htseq.readthedocs.io/en/master/): count reads aligned on the reference genome  "
   ]
  },
  {
   "cell_type": "markdown",
   "metadata": {},
   "source": [
    "- install dependencies mentioned above in this directory  \n",
    "- fastQC, cutadapt, and trim galore can be replaced by fastp instead.  \n",
    ">```\n",
    ">User@Machine:~/exp_run$ mkdir tools && cd tools\n",
    ">User@Machine:~/exp_run/tools$\n",
    ">```"
   ]
  },
  {
   "cell_type": "markdown",
   "metadata": {},
   "source": [
    "## II. Counting reads"
   ]
  },
  {
   "cell_type": "markdown",
   "metadata": {},
   "source": [
    "### 0. prepare SRA file and reference genome"
   ]
  },
  {
   "cell_type": "markdown",
   "metadata": {},
   "source": [
    "- download SRA from NCBI SRA, or prepare your own fastq file  \n",
    ">```\n",
    ">User@Machine:~/exp_run$ mkdir 0_raw && cd 0_raw\n",
    ">User@Machine:~/exp_run/0_raw$ wget \"$(download link for SRA file)\"\n",
    ">User@Machine:~/exp_run/0_raw$ fasterq-dump -I --split-3 $(SRA file)\n",
    ">User@Machine:~/exp_run/0_raw$ cd ../\n",
    ">```"
   ]
  },
  {
   "cell_type": "markdown",
   "metadata": {},
   "source": [
    "- prepare reference genome sequence and annotation\n",
    "- store the genome files and make sure that you prepared the fasta and gff3 of the reference genome  \n",
    ">```\n",
    ">User@Machine:~/exp_run$ mkdir 0_reference_genome && cd 0_reference_genome\n",
    ">```"
   ]
  },
  {
   "cell_type": "markdown",
   "metadata": {},
   "source": [
    "- Index the genome to use in bowtie2\n",
    ">```\n",
    ">User@Machine:~/exp_run/0_reference_genome$ bowtie2-build --threads $(threads) $(genome fasta) $(output database name)\n",
    ">User@Machine:~/exp_run/0_reference_genome$ cd ../\n",
    ">```"
   ]
  },
  {
   "cell_type": "markdown",
   "metadata": {},
   "source": [
    "- QC for fastq\n",
    ">```\n",
    ">User@Machine:~/exp_run$ cd 0_raw/\n",
    ">User@Machine:~/exp_run/0_raw$ fastqc $(SRA file) -o $(fastqc_output_directory) -t $(threads)\n",
    ">```"
   ]
  },
  {
   "cell_type": "markdown",
   "metadata": {},
   "source": [
    "- Quality based trimming and adapter trimming by Trim Galore\n",
    ">```\n",
    ">User@Machine:~/exp_run/0_raw$ trim_galore -q $(quality for Trim Galore) --length $(length for Trim Galore) --FastQC --phred33 --paired $(_1.fastq.gz) $(_2.fastq.gz) -o $(trimmed_output_directory)\n",
    ">User@Machine:~/exp_run/0_raw$ cd ../\n",
    ">```"
   ]
  },
  {
   "cell_type": "markdown",
   "metadata": {},
   "source": [
    "### 1. mapping reads"
   ]
  },
  {
   "cell_type": "markdown",
   "metadata": {},
   "source": [
    "- mapping trimmed reads\n",
    ">```\n",
    ">User@Machine:~/username/exp_run$ mkdir 1_align\n",
    ">User@Machine:~/username/exp_run$ bowtie2 -x 0_reference_genome/$(reference_genome_database) -1 0_raw/$(trimmed_output_directory)/$(_1.fastq.gz) -2 0_raw/$(trimmed_output_directory)/$(_2.fastq.gz) -S 1_align/$(output_samfile) -p $(threads)\n",
    ">```"
   ]
  },
  {
   "cell_type": "markdown",
   "metadata": {},
   "source": [
    "### 2. sam to bam, sorting, and flagstat"
   ]
  },
  {
   "cell_type": "markdown",
   "metadata": {},
   "source": [
    "- convert sam file to bam file\n",
    ">```\n",
    ">User@Machine:~/username/exp_run$ samtools view -@ $(threads) -bS $(output_samfile) > $(output_bamfile)\n",
    ">```"
   ]
  },
  {
   "cell_type": "markdown",
   "metadata": {},
   "source": [
    "- sort the bam file\n",
    ">```\n",
    ">User@Machine:~/username/exp_run$ samtools sort -n $(output_bamfile) -o $(sorted_bamfile)\n",
    ">```"
   ]
  },
  {
   "cell_type": "markdown",
   "metadata": {},
   "source": [
    "- make flagstat file\n",
    ">```\n",
    ">User@Machine:~/username/exp_run$ samtools flagstat $(sorted_bamfile) > $(sorted_bamfile_flagstatfile)\n",
    ">```"
   ]
  },
  {
   "cell_type": "markdown",
   "metadata": {},
   "source": [
    "\n",
    "### 3. count reads"
   ]
  },
  {
   "cell_type": "markdown",
   "metadata": {},
   "source": [
    "- GTF files can be used as $(reference_gff_file) alternatively.\n",
    ">```\n",
    ">User@Machine:~/username/exp_run$ htseq-count -m union -s no -t gene -i gene_id $(output_samfile) $(reference_gff_file) > $(read_countfile)\n",
    ">```"
   ]
  },
  {
   "cell_type": "markdown",
   "metadata": {},
   "source": [
    "## III. Normalisation and visualisation using R"
   ]
  },
  {
   "cell_type": "markdown",
   "metadata": {},
   "source": [
    "### 0. preparing environment"
   ]
  },
  {
   "cell_type": "markdown",
   "metadata": {},
   "source": [
    "- call libraries in R terminal\n",
    ">```\n",
    ">library(DESeq2)\n",
    ">library(ggplot2)\n",
    ">library(gplots)\n",
    ">library(pheatmap)\n",
    ">library(RColorBrewer)\n",
    ">```"
   ]
  },
  {
   "cell_type": "markdown",
   "metadata": {},
   "source": [
    "### 1. "
   ]
  },
  {
   "cell_type": "markdown",
   "metadata": {},
   "source": []
  }
 ],
 "metadata": {
  "interpreter": {
   "hash": "91297282501dea49ed23e555f59e0252defd746985bff640cc7aa9a5cc2e12b6"
  },
  "kernelspec": {
   "display_name": "Python 3.9.10 ('base')",
   "language": "python",
   "name": "python3"
  },
  "language_info": {
   "codemirror_mode": {
    "name": "ipython",
    "version": 3
   },
   "file_extension": ".py",
   "mimetype": "text/x-python",
   "name": "python",
   "nbconvert_exporter": "python",
   "pygments_lexer": "ipython3",
   "version": "3.9.10"
  },
  "orig_nbformat": 4
 },
 "nbformat": 4,
 "nbformat_minor": 2
}
