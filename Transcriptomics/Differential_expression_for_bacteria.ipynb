{
 "cells": [
  {
   "cell_type": "markdown",
   "metadata": {},
   "source": [
    "# A Brief Guide for Bacterial Differential Expression Analysis"
   ]
  },
  {
   "cell_type": "markdown",
   "metadata": {},
   "source": [
    "## Before we begin\n",
    "### 1. Replication\n",
    "#### - What is a technical and biological replicate?  \n",
    "##### Please refer to the [NIH Rigor and Reproducibility Training Module 3: Biological and Technical Replicates](https://www.nigms.nih.gov/training/documents/module3-biological-and-technical-replicates.pdf)  \n",
    "##### In short, you should use biological replicates, not technical replicates for your reproducibility.  \n",
    "### 2. Replicability and Reproducibility\n",
    "#### - Replicability: possibility for a direct replication; does the same result come after the same processes?  \n",
    "#### - Replicability: possibility for a concenptual replication; does the same result come after the same processes with different population?"
   ]
  },
  {
   "cell_type": "markdown",
   "metadata": {},
   "source": []
  }
 ],
 "metadata": {
  "language_info": {
   "name": "python"
  }
 },
 "nbformat": 4,
 "nbformat_minor": 2
}
